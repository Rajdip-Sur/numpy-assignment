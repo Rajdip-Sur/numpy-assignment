{
  "nbformat": 4,
  "nbformat_minor": 0,
  "metadata": {
    "colab": {
      "name": "numpy assignment Rajdip Sur.ipynb",
      "provenance": []
    },
    "kernelspec": {
      "name": "python3",
      "display_name": "Python 3"
    }
  },
  "cells": [
    {
      "cell_type": "code",
      "metadata": {
        "id": "T3WP5kjmWM_b",
        "colab_type": "code",
        "colab": {}
      },
      "source": [
        "import numpy as np"
      ],
      "execution_count": null,
      "outputs": []
    },
    {
      "cell_type": "code",
      "metadata": {
        "id": "cBb-rcchWeEV",
        "colab_type": "code",
        "colab": {
          "base_uri": "https://localhost:8080/",
          "height": 104
        },
        "outputId": "10ffb837-3827-4c2c-ac42-8f1e28edbe3d"
      },
      "source": [
        "# 1.\n",
        "\n",
        "inp=np.array([1,2,3,4,5])\n",
        "np.vander(inp,6)"
      ],
      "execution_count": null,
      "outputs": [
        {
          "output_type": "execute_result",
          "data": {
            "text/plain": [
              "array([[   1,    1,    1,    1,    1,    1],\n",
              "       [  32,   16,    8,    4,    2,    1],\n",
              "       [ 243,   81,   27,    9,    3,    1],\n",
              "       [1024,  256,   64,   16,    4,    1],\n",
              "       [3125,  625,  125,   25,    5,    1]])"
            ]
          },
          "metadata": {
            "tags": []
          },
          "execution_count": 8
        }
      ]
    },
    {
      "cell_type": "code",
      "metadata": {
        "id": "NUCJmcU9W8ac",
        "colab_type": "code",
        "colab": {
          "base_uri": "https://localhost:8080/",
          "height": 104
        },
        "outputId": "a7158061-62b4-44cd-a798-8d0d6147a5c2"
      },
      "source": [
        "np.vander(inp,6,True)"
      ],
      "execution_count": null,
      "outputs": [
        {
          "output_type": "execute_result",
          "data": {
            "text/plain": [
              "array([[   1,    1,    1,    1,    1,    1],\n",
              "       [   1,    2,    4,    8,   16,   32],\n",
              "       [   1,    3,    9,   27,   81,  243],\n",
              "       [   1,    4,   16,   64,  256, 1024],\n",
              "       [   1,    5,   25,  125,  625, 3125]])"
            ]
          },
          "metadata": {
            "tags": []
          },
          "execution_count": 4
        }
      ]
    },
    {
      "cell_type": "code",
      "metadata": {
        "id": "ocx9XgT5XiHs",
        "colab_type": "code",
        "colab": {}
      },
      "source": [
        "# another way\n",
        "def vendermonde_matrix(inp_vector,N,increasing=False):\n",
        "    if increasing==False:\n",
        "        a=np.mat([x**(N-i-1) for x in inp_vector for i in  range(N)]).reshape(len(inp_vector),N)\n",
        "        return a\n",
        "    else:\n",
        "        if increasing==True:\n",
        "            b=np.mat([x**i for x in inp_vector for i in range(N)]).reshape(len(inp_vector),N)\n",
        "            return b"
      ],
      "execution_count": null,
      "outputs": []
    },
    {
      "cell_type": "code",
      "metadata": {
        "id": "ujVqvZ8qYiOc",
        "colab_type": "code",
        "colab": {
          "base_uri": "https://localhost:8080/",
          "height": 86
        },
        "outputId": "f2f083c0-e940-433e-b45e-db7980b4e713"
      },
      "source": [
        "vendermonde_matrix([1,2,3,4],5)"
      ],
      "execution_count": null,
      "outputs": [
        {
          "output_type": "execute_result",
          "data": {
            "text/plain": [
              "matrix([[  1,   1,   1,   1,   1],\n",
              "        [ 16,   8,   4,   2,   1],\n",
              "        [ 81,  27,   9,   3,   1],\n",
              "        [256,  64,  16,   4,   1]])"
            ]
          },
          "metadata": {
            "tags": []
          },
          "execution_count": 6
        }
      ]
    },
    {
      "cell_type": "code",
      "metadata": {
        "id": "_ViRKe6AYo67",
        "colab_type": "code",
        "colab": {
          "base_uri": "https://localhost:8080/",
          "height": 86
        },
        "outputId": "64570a05-86c7-490e-b2c7-54681f344767"
      },
      "source": [
        "vendermonde_matrix([1,2,3,4],5,True)"
      ],
      "execution_count": null,
      "outputs": [
        {
          "output_type": "execute_result",
          "data": {
            "text/plain": [
              "matrix([[  1,   1,   1,   1,   1],\n",
              "        [  1,   2,   4,   8,  16],\n",
              "        [  1,   3,   9,  27,  81],\n",
              "        [  1,   4,  16,  64, 256]])"
            ]
          },
          "metadata": {
            "tags": []
          },
          "execution_count": 7
        }
      ]
    },
    {
      "cell_type": "code",
      "metadata": {
        "id": "pFmPIb2TYwuj",
        "colab_type": "code",
        "colab": {}
      },
      "source": [
        "# 2.\n",
        "\n",
        "def moving_average(a, n=3) :\n",
        "    l = np.cumsum(a, dtype=float)\n",
        "    l[n:] = l[n:] - l[:-n]\n",
        "    return l[n - 1:] / n"
      ],
      "execution_count": null,
      "outputs": []
    },
    {
      "cell_type": "code",
      "metadata": {
        "id": "z54GW1eUaD-D",
        "colab_type": "code",
        "colab": {
          "base_uri": "https://localhost:8080/",
          "height": 34
        },
        "outputId": "059e3f46-6d29-48a0-c6a0-1656c3e9d148"
      },
      "source": [
        "moving_average([10,20,30,40,50,60,70,80,90,100],4)\n"
      ],
      "execution_count": null,
      "outputs": [
        {
          "output_type": "execute_result",
          "data": {
            "text/plain": [
              "array([25., 35., 45., 55., 65., 75., 85.])"
            ]
          },
          "metadata": {
            "tags": []
          },
          "execution_count": 21
        }
      ]
    },
    {
      "cell_type": "code",
      "metadata": {
        "id": "b79IjKNSaKUA",
        "colab_type": "code",
        "colab": {
          "base_uri": "https://localhost:8080/",
          "height": 69
        },
        "outputId": "5b2dcbaf-d2dd-47a5-c297-86ce01589c6c"
      },
      "source": [
        "moving_average([3, 5, 7, 2, 8, 10, 11, 65, 72, 81, 99, 100, 150],3)"
      ],
      "execution_count": null,
      "outputs": [
        {
          "output_type": "execute_result",
          "data": {
            "text/plain": [
              "array([  5.        ,   4.66666667,   5.66666667,   6.66666667,\n",
              "         9.66666667,  28.66666667,  49.33333333,  72.66666667,\n",
              "        84.        ,  93.33333333, 116.33333333])"
            ]
          },
          "metadata": {
            "tags": []
          },
          "execution_count": 22
        }
      ]
    }
  ]
}